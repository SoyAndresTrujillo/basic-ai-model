{
 "cells": [
  {
   "cell_type": "markdown",
   "id": "44260113",
   "metadata": {},
   "source": [
    "Clear project data"
   ]
  },
  {
   "cell_type": "markdown",
   "id": "eaf69fa9",
   "metadata": {},
   "source": [
    "Include  packages"
   ]
  },
  {
   "cell_type": "code",
   "execution_count": 1,
   "id": "b066283a",
   "metadata": {},
   "outputs": [
    {
     "name": "stdout",
     "output_type": "stream",
     "text": [
      "Requirement already satisfied: pandas in ./logistic_project_env/lib/python3.13/site-packages (2.3.3)\n",
      "Requirement already satisfied: numpy>=1.26.0 in ./logistic_project_env/lib/python3.13/site-packages (from pandas) (2.3.3)\n",
      "Requirement already satisfied: python-dateutil>=2.8.2 in ./logistic_project_env/lib/python3.13/site-packages (from pandas) (2.9.0.post0)\n",
      "Requirement already satisfied: pytz>=2020.1 in ./logistic_project_env/lib/python3.13/site-packages (from pandas) (2025.2)\n",
      "Requirement already satisfied: tzdata>=2022.7 in ./logistic_project_env/lib/python3.13/site-packages (from pandas) (2025.2)\n",
      "Requirement already satisfied: six>=1.5 in ./logistic_project_env/lib/python3.13/site-packages (from python-dateutil>=2.8.2->pandas) (1.17.0)\n",
      "Note: you may need to restart the kernel to use updated packages.\n"
     ]
    }
   ],
   "source": [
    "pip install pandas"
   ]
  },
  {
   "cell_type": "code",
   "execution_count": 2,
   "id": "e0bf9afc",
   "metadata": {},
   "outputs": [
    {
     "name": "stdout",
     "output_type": "stream",
     "text": [
      "Requirement already satisfied: matplotlib in ./logistic_project_env/lib/python3.13/site-packages (3.10.6)\n",
      "Requirement already satisfied: contourpy>=1.0.1 in ./logistic_project_env/lib/python3.13/site-packages (from matplotlib) (1.3.3)\n",
      "Requirement already satisfied: cycler>=0.10 in ./logistic_project_env/lib/python3.13/site-packages (from matplotlib) (0.12.1)\n",
      "Requirement already satisfied: fonttools>=4.22.0 in ./logistic_project_env/lib/python3.13/site-packages (from matplotlib) (4.60.1)\n",
      "Requirement already satisfied: kiwisolver>=1.3.1 in ./logistic_project_env/lib/python3.13/site-packages (from matplotlib) (1.4.9)\n",
      "Requirement already satisfied: numpy>=1.23 in ./logistic_project_env/lib/python3.13/site-packages (from matplotlib) (2.3.3)\n",
      "Requirement already satisfied: packaging>=20.0 in ./logistic_project_env/lib/python3.13/site-packages (from matplotlib) (25.0)\n",
      "Requirement already satisfied: pillow>=8 in ./logistic_project_env/lib/python3.13/site-packages (from matplotlib) (11.3.0)\n",
      "Requirement already satisfied: pyparsing>=2.3.1 in ./logistic_project_env/lib/python3.13/site-packages (from matplotlib) (3.2.5)\n",
      "Requirement already satisfied: python-dateutil>=2.7 in ./logistic_project_env/lib/python3.13/site-packages (from matplotlib) (2.9.0.post0)\n",
      "Requirement already satisfied: six>=1.5 in ./logistic_project_env/lib/python3.13/site-packages (from python-dateutil>=2.7->matplotlib) (1.17.0)\n",
      "Note: you may need to restart the kernel to use updated packages.\n"
     ]
    }
   ],
   "source": [
    "pip install matplotlib"
   ]
  },
  {
   "cell_type": "code",
   "execution_count": 3,
   "id": "b735e561",
   "metadata": {},
   "outputs": [
    {
     "name": "stdout",
     "output_type": "stream",
     "text": [
      "Requirement already satisfied: seaborn in ./logistic_project_env/lib/python3.13/site-packages (0.13.2)\n",
      "Requirement already satisfied: numpy!=1.24.0,>=1.20 in ./logistic_project_env/lib/python3.13/site-packages (from seaborn) (2.3.3)\n",
      "Requirement already satisfied: pandas>=1.2 in ./logistic_project_env/lib/python3.13/site-packages (from seaborn) (2.3.3)\n",
      "Requirement already satisfied: matplotlib!=3.6.1,>=3.4 in ./logistic_project_env/lib/python3.13/site-packages (from seaborn) (3.10.6)\n",
      "Requirement already satisfied: contourpy>=1.0.1 in ./logistic_project_env/lib/python3.13/site-packages (from matplotlib!=3.6.1,>=3.4->seaborn) (1.3.3)\n",
      "Requirement already satisfied: cycler>=0.10 in ./logistic_project_env/lib/python3.13/site-packages (from matplotlib!=3.6.1,>=3.4->seaborn) (0.12.1)\n",
      "Requirement already satisfied: fonttools>=4.22.0 in ./logistic_project_env/lib/python3.13/site-packages (from matplotlib!=3.6.1,>=3.4->seaborn) (4.60.1)\n",
      "Requirement already satisfied: kiwisolver>=1.3.1 in ./logistic_project_env/lib/python3.13/site-packages (from matplotlib!=3.6.1,>=3.4->seaborn) (1.4.9)\n",
      "Requirement already satisfied: packaging>=20.0 in ./logistic_project_env/lib/python3.13/site-packages (from matplotlib!=3.6.1,>=3.4->seaborn) (25.0)\n",
      "Requirement already satisfied: pillow>=8 in ./logistic_project_env/lib/python3.13/site-packages (from matplotlib!=3.6.1,>=3.4->seaborn) (11.3.0)\n",
      "Requirement already satisfied: pyparsing>=2.3.1 in ./logistic_project_env/lib/python3.13/site-packages (from matplotlib!=3.6.1,>=3.4->seaborn) (3.2.5)\n",
      "Requirement already satisfied: python-dateutil>=2.7 in ./logistic_project_env/lib/python3.13/site-packages (from matplotlib!=3.6.1,>=3.4->seaborn) (2.9.0.post0)\n",
      "Requirement already satisfied: pytz>=2020.1 in ./logistic_project_env/lib/python3.13/site-packages (from pandas>=1.2->seaborn) (2025.2)\n",
      "Requirement already satisfied: tzdata>=2022.7 in ./logistic_project_env/lib/python3.13/site-packages (from pandas>=1.2->seaborn) (2025.2)\n",
      "Requirement already satisfied: six>=1.5 in ./logistic_project_env/lib/python3.13/site-packages (from python-dateutil>=2.7->matplotlib!=3.6.1,>=3.4->seaborn) (1.17.0)\n",
      "Note: you may need to restart the kernel to use updated packages.\n"
     ]
    }
   ],
   "source": [
    "\n",
    "pip install seaborn"
   ]
  },
  {
   "cell_type": "code",
   "execution_count": 4,
   "id": "7baf8713",
   "metadata": {},
   "outputs": [
    {
     "name": "stdout",
     "output_type": "stream",
     "text": [
      "Requirement already satisfied: scikit-learn in ./logistic_project_env/lib/python3.13/site-packages (1.7.2)\n",
      "Requirement already satisfied: numpy>=1.22.0 in ./logistic_project_env/lib/python3.13/site-packages (from scikit-learn) (2.3.3)\n",
      "Requirement already satisfied: scipy>=1.8.0 in ./logistic_project_env/lib/python3.13/site-packages (from scikit-learn) (1.16.2)\n",
      "Requirement already satisfied: joblib>=1.2.0 in ./logistic_project_env/lib/python3.13/site-packages (from scikit-learn) (1.5.2)\n",
      "Requirement already satisfied: threadpoolctl>=3.1.0 in ./logistic_project_env/lib/python3.13/site-packages (from scikit-learn) (3.6.0)\n",
      "Note: you may need to restart the kernel to use updated packages.\n"
     ]
    }
   ],
   "source": [
    "pip install scikit-learn"
   ]
  },
  {
   "cell_type": "code",
   "execution_count": 5,
   "id": "0cdfe760",
   "metadata": {},
   "outputs": [],
   "source": [
    "import pandas as pd\n",
    "import matplotlib.pyplot as plt\n",
    "import seaborn as sns\n",
    "import numpy as np\n",
    "from sklearn.impute import SimpleImputer #scikit-learn"
   ]
  },
  {
   "cell_type": "markdown",
   "id": "5798f2ea",
   "metadata": {},
   "source": [
    "\n",
    "Load data"
   ]
  },
  {
   "cell_type": "code",
   "execution_count": 6,
   "id": "62f37acf",
   "metadata": {},
   "outputs": [],
   "source": [
    "data = pd.read_csv('./data/student_payment_bi_export_20251005_215433.csv')"
   ]
  },
  {
   "cell_type": "markdown",
   "id": "953b0958",
   "metadata": {},
   "source": [
    "Show data"
   ]
  },
  {
   "cell_type": "code",
   "execution_count": 7,
   "id": "08c7a9b7",
   "metadata": {},
   "outputs": [
    {
     "data": {
      "text/html": [
       "<div>\n",
       "<style scoped>\n",
       "    .dataframe tbody tr th:only-of-type {\n",
       "        vertical-align: middle;\n",
       "    }\n",
       "\n",
       "    .dataframe tbody tr th {\n",
       "        vertical-align: top;\n",
       "    }\n",
       "\n",
       "    .dataframe thead th {\n",
       "        text-align: right;\n",
       "    }\n",
       "</style>\n",
       "<table border=\"1\" class=\"dataframe\">\n",
       "  <thead>\n",
       "    <tr style=\"text-align: right;\">\n",
       "      <th></th>\n",
       "      <th>name</th>\n",
       "      <th>last_name</th>\n",
       "      <th>type_document_id</th>\n",
       "      <th>document_id</th>\n",
       "      <th>email</th>\n",
       "      <th>phone</th>\n",
       "      <th>student_state</th>\n",
       "      <th>headquarter_name</th>\n",
       "      <th>amount_1_1</th>\n",
       "      <th>amount_1_10</th>\n",
       "      <th>...</th>\n",
       "      <th>receipt_number_3_3</th>\n",
       "      <th>receipt_number_3_4</th>\n",
       "      <th>receipt_number_3_5</th>\n",
       "      <th>receipt_number_3_6</th>\n",
       "      <th>receipt_number_3_7</th>\n",
       "      <th>receipt_number_3_8</th>\n",
       "      <th>receipt_number_3_9</th>\n",
       "      <th>state_1</th>\n",
       "      <th>state_2</th>\n",
       "      <th>state_3</th>\n",
       "    </tr>\n",
       "  </thead>\n",
       "  <tbody>\n",
       "    <tr>\n",
       "      <th>0</th>\n",
       "      <td>Melania</td>\n",
       "      <td>Abascal</td>\n",
       "      <td>TI</td>\n",
       "      <td>10965138</td>\n",
       "      <td>amaya01@example.com</td>\n",
       "      <td>3359154708</td>\n",
       "      <td>active</td>\n",
       "      <td>Sede Centro</td>\n",
       "      <td>192480.47</td>\n",
       "      <td>105899.18</td>\n",
       "      <td>...</td>\n",
       "      <td>NaN</td>\n",
       "      <td>NaN</td>\n",
       "      <td>NaN</td>\n",
       "      <td>NaN</td>\n",
       "      <td>NaN</td>\n",
       "      <td>NaN</td>\n",
       "      <td>NaN</td>\n",
       "      <td>active</td>\n",
       "      <td>NaN</td>\n",
       "      <td>NaN</td>\n",
       "    </tr>\n",
       "    <tr>\n",
       "      <th>1</th>\n",
       "      <td>Brunilda</td>\n",
       "      <td>Sanabria</td>\n",
       "      <td>TI</td>\n",
       "      <td>13176186</td>\n",
       "      <td>telmoespanol@example.com</td>\n",
       "      <td>+57 325 436 5564</td>\n",
       "      <td>active</td>\n",
       "      <td>Sede Albacete</td>\n",
       "      <td>170952.60</td>\n",
       "      <td>256132.30</td>\n",
       "      <td>...</td>\n",
       "      <td>REC-376218</td>\n",
       "      <td>REC-957987</td>\n",
       "      <td>REC-402252</td>\n",
       "      <td>REC-724284</td>\n",
       "      <td>REC-901996</td>\n",
       "      <td>REC-125853</td>\n",
       "      <td>REC-452088</td>\n",
       "      <td>expired</td>\n",
       "      <td>active</td>\n",
       "      <td>active</td>\n",
       "    </tr>\n",
       "    <tr>\n",
       "      <th>2</th>\n",
       "      <td>Josep</td>\n",
       "      <td>Benet</td>\n",
       "      <td>CE</td>\n",
       "      <td>15134794</td>\n",
       "      <td>dcabanas@example.net</td>\n",
       "      <td>3380526202</td>\n",
       "      <td>active</td>\n",
       "      <td>Sede Navarra</td>\n",
       "      <td>291224.69</td>\n",
       "      <td>61635.25</td>\n",
       "      <td>...</td>\n",
       "      <td>NaN</td>\n",
       "      <td>NaN</td>\n",
       "      <td>NaN</td>\n",
       "      <td>NaN</td>\n",
       "      <td>NaN</td>\n",
       "      <td>NaN</td>\n",
       "      <td>NaN</td>\n",
       "      <td>expired</td>\n",
       "      <td>expired</td>\n",
       "      <td>NaN</td>\n",
       "    </tr>\n",
       "    <tr>\n",
       "      <th>3</th>\n",
       "      <td>Lourdes</td>\n",
       "      <td>Dalmau</td>\n",
       "      <td>CE</td>\n",
       "      <td>16095815</td>\n",
       "      <td>ncastell@example.net</td>\n",
       "      <td>+57 338 156 1125</td>\n",
       "      <td>active</td>\n",
       "      <td>Sede Ourense</td>\n",
       "      <td>60234.38</td>\n",
       "      <td>182733.71</td>\n",
       "      <td>...</td>\n",
       "      <td>NaN</td>\n",
       "      <td>NaN</td>\n",
       "      <td>NaN</td>\n",
       "      <td>NaN</td>\n",
       "      <td>NaN</td>\n",
       "      <td>NaN</td>\n",
       "      <td>NaN</td>\n",
       "      <td>active</td>\n",
       "      <td>active</td>\n",
       "      <td>NaN</td>\n",
       "    </tr>\n",
       "    <tr>\n",
       "      <th>4</th>\n",
       "      <td>Nicolasa</td>\n",
       "      <td>Sobrino</td>\n",
       "      <td>CC</td>\n",
       "      <td>16788532</td>\n",
       "      <td>marisol79@example.net</td>\n",
       "      <td>+57 315 228 4362</td>\n",
       "      <td>active</td>\n",
       "      <td>Sede Ourense</td>\n",
       "      <td>196992.44</td>\n",
       "      <td>111907.31</td>\n",
       "      <td>...</td>\n",
       "      <td>NaN</td>\n",
       "      <td>NaN</td>\n",
       "      <td>NaN</td>\n",
       "      <td>NaN</td>\n",
       "      <td>NaN</td>\n",
       "      <td>NaN</td>\n",
       "      <td>NaN</td>\n",
       "      <td>active</td>\n",
       "      <td>expired</td>\n",
       "      <td>NaN</td>\n",
       "    </tr>\n",
       "  </tbody>\n",
       "</table>\n",
       "<p>5 rows × 131 columns</p>\n",
       "</div>"
      ],
      "text/plain": [
       "       name last_name type_document_id  document_id                     email  \\\n",
       "0   Melania   Abascal               TI     10965138       amaya01@example.com   \n",
       "1  Brunilda  Sanabria               TI     13176186  telmoespanol@example.com   \n",
       "2     Josep     Benet               CE     15134794      dcabanas@example.net   \n",
       "3   Lourdes    Dalmau               CE     16095815      ncastell@example.net   \n",
       "4  Nicolasa   Sobrino               CC     16788532     marisol79@example.net   \n",
       "\n",
       "              phone student_state headquarter_name  amount_1_1  amount_1_10  \\\n",
       "0        3359154708        active      Sede Centro   192480.47    105899.18   \n",
       "1  +57 325 436 5564        active    Sede Albacete   170952.60    256132.30   \n",
       "2        3380526202        active     Sede Navarra   291224.69     61635.25   \n",
       "3  +57 338 156 1125        active     Sede Ourense    60234.38    182733.71   \n",
       "4  +57 315 228 4362        active     Sede Ourense   196992.44    111907.31   \n",
       "\n",
       "   ...  receipt_number_3_3  receipt_number_3_4  receipt_number_3_5  \\\n",
       "0  ...                 NaN                 NaN                 NaN   \n",
       "1  ...          REC-376218          REC-957987          REC-402252   \n",
       "2  ...                 NaN                 NaN                 NaN   \n",
       "3  ...                 NaN                 NaN                 NaN   \n",
       "4  ...                 NaN                 NaN                 NaN   \n",
       "\n",
       "   receipt_number_3_6  receipt_number_3_7  receipt_number_3_8  \\\n",
       "0                 NaN                 NaN                 NaN   \n",
       "1          REC-724284          REC-901996          REC-125853   \n",
       "2                 NaN                 NaN                 NaN   \n",
       "3                 NaN                 NaN                 NaN   \n",
       "4                 NaN                 NaN                 NaN   \n",
       "\n",
       "   receipt_number_3_9  state_1  state_2  state_3  \n",
       "0                 NaN   active      NaN      NaN  \n",
       "1          REC-452088  expired   active   active  \n",
       "2                 NaN  expired  expired      NaN  \n",
       "3                 NaN   active   active      NaN  \n",
       "4                 NaN   active  expired      NaN  \n",
       "\n",
       "[5 rows x 131 columns]"
      ]
     },
     "execution_count": 7,
     "metadata": {},
     "output_type": "execute_result"
    }
   ],
   "source": [
    "data.head()"
   ]
  },
  {
   "cell_type": "markdown",
   "id": "3dce6790",
   "metadata": {},
   "source": [
    "Verify structure"
   ]
  },
  {
   "cell_type": "code",
   "execution_count": 8,
   "id": "9a3363dc",
   "metadata": {},
   "outputs": [
    {
     "name": "stdout",
     "output_type": "stream",
     "text": [
      "<class 'pandas.core.frame.DataFrame'>\n",
      "RangeIndex: 80 entries, 0 to 79\n",
      "Columns: 131 entries, name to state_3\n",
      "dtypes: float64(30), int64(1), object(100)\n",
      "memory usage: 82.0+ KB\n"
     ]
    }
   ],
   "source": [
    "data.info()"
   ]
  },
  {
   "cell_type": "markdown",
   "id": "1c50d709",
   "metadata": {},
   "source": [
    "Stadistics"
   ]
  },
  {
   "cell_type": "code",
   "execution_count": 9,
   "id": "287a02e1",
   "metadata": {},
   "outputs": [
    {
     "data": {
      "text/html": [
       "<div>\n",
       "<style scoped>\n",
       "    .dataframe tbody tr th:only-of-type {\n",
       "        vertical-align: middle;\n",
       "    }\n",
       "\n",
       "    .dataframe tbody tr th {\n",
       "        vertical-align: top;\n",
       "    }\n",
       "\n",
       "    .dataframe thead th {\n",
       "        text-align: right;\n",
       "    }\n",
       "</style>\n",
       "<table border=\"1\" class=\"dataframe\">\n",
       "  <thead>\n",
       "    <tr style=\"text-align: right;\">\n",
       "      <th></th>\n",
       "      <th>document_id</th>\n",
       "      <th>amount_1_1</th>\n",
       "      <th>amount_1_10</th>\n",
       "      <th>amount_1_2</th>\n",
       "      <th>amount_1_3</th>\n",
       "      <th>amount_1_4</th>\n",
       "      <th>amount_1_5</th>\n",
       "      <th>amount_1_6</th>\n",
       "      <th>amount_1_7</th>\n",
       "      <th>amount_1_8</th>\n",
       "      <th>...</th>\n",
       "      <th>amount_3_1</th>\n",
       "      <th>amount_3_10</th>\n",
       "      <th>amount_3_2</th>\n",
       "      <th>amount_3_3</th>\n",
       "      <th>amount_3_4</th>\n",
       "      <th>amount_3_5</th>\n",
       "      <th>amount_3_6</th>\n",
       "      <th>amount_3_7</th>\n",
       "      <th>amount_3_8</th>\n",
       "      <th>amount_3_9</th>\n",
       "    </tr>\n",
       "  </thead>\n",
       "  <tbody>\n",
       "    <tr>\n",
       "      <th>count</th>\n",
       "      <td>8.000000e+01</td>\n",
       "      <td>80.000000</td>\n",
       "      <td>80.000000</td>\n",
       "      <td>80.000000</td>\n",
       "      <td>80.000000</td>\n",
       "      <td>80.000000</td>\n",
       "      <td>80.000000</td>\n",
       "      <td>80.000000</td>\n",
       "      <td>80.000000</td>\n",
       "      <td>80.000000</td>\n",
       "      <td>...</td>\n",
       "      <td>25.000000</td>\n",
       "      <td>25.000000</td>\n",
       "      <td>25.000000</td>\n",
       "      <td>25.00000</td>\n",
       "      <td>25.000000</td>\n",
       "      <td>25.000000</td>\n",
       "      <td>25.000000</td>\n",
       "      <td>25.000000</td>\n",
       "      <td>25.000000</td>\n",
       "      <td>25.000000</td>\n",
       "    </tr>\n",
       "    <tr>\n",
       "      <th>mean</th>\n",
       "      <td>5.839253e+07</td>\n",
       "      <td>160249.734875</td>\n",
       "      <td>170942.741500</td>\n",
       "      <td>183994.307750</td>\n",
       "      <td>178664.558875</td>\n",
       "      <td>155341.455500</td>\n",
       "      <td>174844.378125</td>\n",
       "      <td>169764.073250</td>\n",
       "      <td>186820.747750</td>\n",
       "      <td>194450.381125</td>\n",
       "      <td>...</td>\n",
       "      <td>182580.780000</td>\n",
       "      <td>138544.212400</td>\n",
       "      <td>172416.940800</td>\n",
       "      <td>195869.47920</td>\n",
       "      <td>191885.049200</td>\n",
       "      <td>162790.706800</td>\n",
       "      <td>153008.621200</td>\n",
       "      <td>193442.093200</td>\n",
       "      <td>175936.906000</td>\n",
       "      <td>159624.910800</td>\n",
       "    </tr>\n",
       "    <tr>\n",
       "      <th>std</th>\n",
       "      <td>2.449499e+07</td>\n",
       "      <td>78693.441843</td>\n",
       "      <td>71806.611881</td>\n",
       "      <td>68592.324281</td>\n",
       "      <td>71414.958068</td>\n",
       "      <td>69789.064441</td>\n",
       "      <td>78546.952135</td>\n",
       "      <td>65853.978647</td>\n",
       "      <td>69365.083899</td>\n",
       "      <td>75356.281560</td>\n",
       "      <td>...</td>\n",
       "      <td>83936.505694</td>\n",
       "      <td>72717.089043</td>\n",
       "      <td>79483.456668</td>\n",
       "      <td>53071.68374</td>\n",
       "      <td>83035.604686</td>\n",
       "      <td>75591.005266</td>\n",
       "      <td>71331.011772</td>\n",
       "      <td>73639.306845</td>\n",
       "      <td>77951.915745</td>\n",
       "      <td>77714.841599</td>\n",
       "    </tr>\n",
       "    <tr>\n",
       "      <th>min</th>\n",
       "      <td>1.096514e+07</td>\n",
       "      <td>50383.990000</td>\n",
       "      <td>50741.450000</td>\n",
       "      <td>51123.690000</td>\n",
       "      <td>59154.880000</td>\n",
       "      <td>52340.160000</td>\n",
       "      <td>54247.140000</td>\n",
       "      <td>57444.700000</td>\n",
       "      <td>50949.100000</td>\n",
       "      <td>52053.980000</td>\n",
       "      <td>...</td>\n",
       "      <td>60450.130000</td>\n",
       "      <td>53262.060000</td>\n",
       "      <td>55735.240000</td>\n",
       "      <td>94019.36000</td>\n",
       "      <td>60255.070000</td>\n",
       "      <td>60976.210000</td>\n",
       "      <td>62281.620000</td>\n",
       "      <td>52600.270000</td>\n",
       "      <td>63298.680000</td>\n",
       "      <td>56327.900000</td>\n",
       "    </tr>\n",
       "    <tr>\n",
       "      <th>25%</th>\n",
       "      <td>4.146164e+07</td>\n",
       "      <td>91783.237500</td>\n",
       "      <td>104621.317500</td>\n",
       "      <td>131860.495000</td>\n",
       "      <td>116930.205000</td>\n",
       "      <td>95763.067500</td>\n",
       "      <td>100577.440000</td>\n",
       "      <td>120390.452500</td>\n",
       "      <td>125020.172500</td>\n",
       "      <td>127999.287500</td>\n",
       "      <td>...</td>\n",
       "      <td>104000.930000</td>\n",
       "      <td>90570.000000</td>\n",
       "      <td>98982.430000</td>\n",
       "      <td>174691.33000</td>\n",
       "      <td>115352.760000</td>\n",
       "      <td>94328.650000</td>\n",
       "      <td>91304.720000</td>\n",
       "      <td>147342.800000</td>\n",
       "      <td>95154.270000</td>\n",
       "      <td>89432.900000</td>\n",
       "    </tr>\n",
       "    <tr>\n",
       "      <th>50%</th>\n",
       "      <td>5.924103e+07</td>\n",
       "      <td>140473.925000</td>\n",
       "      <td>171348.550000</td>\n",
       "      <td>186177.370000</td>\n",
       "      <td>192390.925000</td>\n",
       "      <td>141446.695000</td>\n",
       "      <td>168739.250000</td>\n",
       "      <td>170080.275000</td>\n",
       "      <td>199349.405000</td>\n",
       "      <td>208849.365000</td>\n",
       "      <td>...</td>\n",
       "      <td>195360.490000</td>\n",
       "      <td>122581.450000</td>\n",
       "      <td>164009.920000</td>\n",
       "      <td>201116.79000</td>\n",
       "      <td>199275.840000</td>\n",
       "      <td>154868.120000</td>\n",
       "      <td>137337.850000</td>\n",
       "      <td>191418.220000</td>\n",
       "      <td>185459.960000</td>\n",
       "      <td>140650.960000</td>\n",
       "    </tr>\n",
       "    <tr>\n",
       "      <th>75%</th>\n",
       "      <td>7.715494e+07</td>\n",
       "      <td>227570.955000</td>\n",
       "      <td>229601.560000</td>\n",
       "      <td>239201.075000</td>\n",
       "      <td>237375.430000</td>\n",
       "      <td>210591.612500</td>\n",
       "      <td>247591.160000</td>\n",
       "      <td>228166.170000</td>\n",
       "      <td>247154.372500</td>\n",
       "      <td>265648.792500</td>\n",
       "      <td>...</td>\n",
       "      <td>258117.310000</td>\n",
       "      <td>184275.260000</td>\n",
       "      <td>238320.690000</td>\n",
       "      <td>226778.61000</td>\n",
       "      <td>262955.330000</td>\n",
       "      <td>226407.290000</td>\n",
       "      <td>208077.480000</td>\n",
       "      <td>256521.080000</td>\n",
       "      <td>233646.540000</td>\n",
       "      <td>222648.890000</td>\n",
       "    </tr>\n",
       "    <tr>\n",
       "      <th>max</th>\n",
       "      <td>9.991341e+07</td>\n",
       "      <td>299325.790000</td>\n",
       "      <td>293627.800000</td>\n",
       "      <td>293657.240000</td>\n",
       "      <td>298963.890000</td>\n",
       "      <td>297851.320000</td>\n",
       "      <td>297321.760000</td>\n",
       "      <td>297565.890000</td>\n",
       "      <td>298647.980000</td>\n",
       "      <td>296361.010000</td>\n",
       "      <td>...</td>\n",
       "      <td>295995.210000</td>\n",
       "      <td>291514.980000</td>\n",
       "      <td>298972.250000</td>\n",
       "      <td>288597.29000</td>\n",
       "      <td>298686.290000</td>\n",
       "      <td>297503.440000</td>\n",
       "      <td>275775.890000</td>\n",
       "      <td>299822.730000</td>\n",
       "      <td>292347.580000</td>\n",
       "      <td>297849.710000</td>\n",
       "    </tr>\n",
       "  </tbody>\n",
       "</table>\n",
       "<p>8 rows × 31 columns</p>\n",
       "</div>"
      ],
      "text/plain": [
       "        document_id     amount_1_1    amount_1_10     amount_1_2  \\\n",
       "count  8.000000e+01      80.000000      80.000000      80.000000   \n",
       "mean   5.839253e+07  160249.734875  170942.741500  183994.307750   \n",
       "std    2.449499e+07   78693.441843   71806.611881   68592.324281   \n",
       "min    1.096514e+07   50383.990000   50741.450000   51123.690000   \n",
       "25%    4.146164e+07   91783.237500  104621.317500  131860.495000   \n",
       "50%    5.924103e+07  140473.925000  171348.550000  186177.370000   \n",
       "75%    7.715494e+07  227570.955000  229601.560000  239201.075000   \n",
       "max    9.991341e+07  299325.790000  293627.800000  293657.240000   \n",
       "\n",
       "          amount_1_3     amount_1_4     amount_1_5     amount_1_6  \\\n",
       "count      80.000000      80.000000      80.000000      80.000000   \n",
       "mean   178664.558875  155341.455500  174844.378125  169764.073250   \n",
       "std     71414.958068   69789.064441   78546.952135   65853.978647   \n",
       "min     59154.880000   52340.160000   54247.140000   57444.700000   \n",
       "25%    116930.205000   95763.067500  100577.440000  120390.452500   \n",
       "50%    192390.925000  141446.695000  168739.250000  170080.275000   \n",
       "75%    237375.430000  210591.612500  247591.160000  228166.170000   \n",
       "max    298963.890000  297851.320000  297321.760000  297565.890000   \n",
       "\n",
       "          amount_1_7     amount_1_8  ...     amount_3_1    amount_3_10  \\\n",
       "count      80.000000      80.000000  ...      25.000000      25.000000   \n",
       "mean   186820.747750  194450.381125  ...  182580.780000  138544.212400   \n",
       "std     69365.083899   75356.281560  ...   83936.505694   72717.089043   \n",
       "min     50949.100000   52053.980000  ...   60450.130000   53262.060000   \n",
       "25%    125020.172500  127999.287500  ...  104000.930000   90570.000000   \n",
       "50%    199349.405000  208849.365000  ...  195360.490000  122581.450000   \n",
       "75%    247154.372500  265648.792500  ...  258117.310000  184275.260000   \n",
       "max    298647.980000  296361.010000  ...  295995.210000  291514.980000   \n",
       "\n",
       "          amount_3_2    amount_3_3     amount_3_4     amount_3_5  \\\n",
       "count      25.000000      25.00000      25.000000      25.000000   \n",
       "mean   172416.940800  195869.47920  191885.049200  162790.706800   \n",
       "std     79483.456668   53071.68374   83035.604686   75591.005266   \n",
       "min     55735.240000   94019.36000   60255.070000   60976.210000   \n",
       "25%     98982.430000  174691.33000  115352.760000   94328.650000   \n",
       "50%    164009.920000  201116.79000  199275.840000  154868.120000   \n",
       "75%    238320.690000  226778.61000  262955.330000  226407.290000   \n",
       "max    298972.250000  288597.29000  298686.290000  297503.440000   \n",
       "\n",
       "          amount_3_6     amount_3_7     amount_3_8     amount_3_9  \n",
       "count      25.000000      25.000000      25.000000      25.000000  \n",
       "mean   153008.621200  193442.093200  175936.906000  159624.910800  \n",
       "std     71331.011772   73639.306845   77951.915745   77714.841599  \n",
       "min     62281.620000   52600.270000   63298.680000   56327.900000  \n",
       "25%     91304.720000  147342.800000   95154.270000   89432.900000  \n",
       "50%    137337.850000  191418.220000  185459.960000  140650.960000  \n",
       "75%    208077.480000  256521.080000  233646.540000  222648.890000  \n",
       "max    275775.890000  299822.730000  292347.580000  297849.710000  \n",
       "\n",
       "[8 rows x 31 columns]"
      ]
     },
     "execution_count": 9,
     "metadata": {},
     "output_type": "execute_result"
    }
   ],
   "source": [
    "data.describe()"
   ]
  },
  {
   "cell_type": "markdown",
   "id": "79e8e466",
   "metadata": {},
   "source": [
    "Get objects"
   ]
  },
  {
   "cell_type": "code",
   "execution_count": 10,
   "id": "c59912c8",
   "metadata": {},
   "outputs": [
    {
     "data": {
      "text/html": [
       "<div>\n",
       "<style scoped>\n",
       "    .dataframe tbody tr th:only-of-type {\n",
       "        vertical-align: middle;\n",
       "    }\n",
       "\n",
       "    .dataframe tbody tr th {\n",
       "        vertical-align: top;\n",
       "    }\n",
       "\n",
       "    .dataframe thead th {\n",
       "        text-align: right;\n",
       "    }\n",
       "</style>\n",
       "<table border=\"1\" class=\"dataframe\">\n",
       "  <thead>\n",
       "    <tr style=\"text-align: right;\">\n",
       "      <th></th>\n",
       "      <th>name</th>\n",
       "      <th>last_name</th>\n",
       "      <th>type_document_id</th>\n",
       "      <th>email</th>\n",
       "      <th>phone</th>\n",
       "      <th>student_state</th>\n",
       "      <th>headquarter_name</th>\n",
       "      <th>concept_1_1</th>\n",
       "      <th>concept_1_10</th>\n",
       "      <th>concept_1_2</th>\n",
       "      <th>...</th>\n",
       "      <th>receipt_number_3_3</th>\n",
       "      <th>receipt_number_3_4</th>\n",
       "      <th>receipt_number_3_5</th>\n",
       "      <th>receipt_number_3_6</th>\n",
       "      <th>receipt_number_3_7</th>\n",
       "      <th>receipt_number_3_8</th>\n",
       "      <th>receipt_number_3_9</th>\n",
       "      <th>state_1</th>\n",
       "      <th>state_2</th>\n",
       "      <th>state_3</th>\n",
       "    </tr>\n",
       "  </thead>\n",
       "  <tbody>\n",
       "    <tr>\n",
       "      <th>count</th>\n",
       "      <td>80</td>\n",
       "      <td>80</td>\n",
       "      <td>80</td>\n",
       "      <td>80</td>\n",
       "      <td>80</td>\n",
       "      <td>80</td>\n",
       "      <td>80</td>\n",
       "      <td>80</td>\n",
       "      <td>80</td>\n",
       "      <td>80</td>\n",
       "      <td>...</td>\n",
       "      <td>25</td>\n",
       "      <td>25</td>\n",
       "      <td>25</td>\n",
       "      <td>25</td>\n",
       "      <td>25</td>\n",
       "      <td>25</td>\n",
       "      <td>25</td>\n",
       "      <td>80</td>\n",
       "      <td>54</td>\n",
       "      <td>25</td>\n",
       "    </tr>\n",
       "    <tr>\n",
       "      <th>unique</th>\n",
       "      <td>77</td>\n",
       "      <td>79</td>\n",
       "      <td>4</td>\n",
       "      <td>80</td>\n",
       "      <td>80</td>\n",
       "      <td>3</td>\n",
       "      <td>10</td>\n",
       "      <td>10</td>\n",
       "      <td>10</td>\n",
       "      <td>10</td>\n",
       "      <td>...</td>\n",
       "      <td>25</td>\n",
       "      <td>25</td>\n",
       "      <td>25</td>\n",
       "      <td>25</td>\n",
       "      <td>25</td>\n",
       "      <td>25</td>\n",
       "      <td>25</td>\n",
       "      <td>3</td>\n",
       "      <td>3</td>\n",
       "      <td>3</td>\n",
       "    </tr>\n",
       "    <tr>\n",
       "      <th>top</th>\n",
       "      <td>Abraham</td>\n",
       "      <td>Torralba</td>\n",
       "      <td>CC</td>\n",
       "      <td>amaya01@example.com</td>\n",
       "      <td>3359154708</td>\n",
       "      <td>active</td>\n",
       "      <td>Sede Centro</td>\n",
       "      <td>Recargo por mora</td>\n",
       "      <td>Descuento hermanos</td>\n",
       "      <td>Recargo por mora</td>\n",
       "      <td>...</td>\n",
       "      <td>REC-376218</td>\n",
       "      <td>REC-957987</td>\n",
       "      <td>REC-402252</td>\n",
       "      <td>REC-724284</td>\n",
       "      <td>REC-901996</td>\n",
       "      <td>REC-125853</td>\n",
       "      <td>REC-452088</td>\n",
       "      <td>active</td>\n",
       "      <td>active</td>\n",
       "      <td>active</td>\n",
       "    </tr>\n",
       "    <tr>\n",
       "      <th>freq</th>\n",
       "      <td>2</td>\n",
       "      <td>2</td>\n",
       "      <td>22</td>\n",
       "      <td>1</td>\n",
       "      <td>1</td>\n",
       "      <td>71</td>\n",
       "      <td>12</td>\n",
       "      <td>14</td>\n",
       "      <td>13</td>\n",
       "      <td>12</td>\n",
       "      <td>...</td>\n",
       "      <td>1</td>\n",
       "      <td>1</td>\n",
       "      <td>1</td>\n",
       "      <td>1</td>\n",
       "      <td>1</td>\n",
       "      <td>1</td>\n",
       "      <td>1</td>\n",
       "      <td>53</td>\n",
       "      <td>38</td>\n",
       "      <td>21</td>\n",
       "    </tr>\n",
       "  </tbody>\n",
       "</table>\n",
       "<p>4 rows × 100 columns</p>\n",
       "</div>"
      ],
      "text/plain": [
       "           name last_name type_document_id                email       phone  \\\n",
       "count        80        80               80                   80          80   \n",
       "unique       77        79                4                   80          80   \n",
       "top     Abraham  Torralba               CC  amaya01@example.com  3359154708   \n",
       "freq          2         2               22                    1           1   \n",
       "\n",
       "       student_state headquarter_name       concept_1_1        concept_1_10  \\\n",
       "count             80               80                80                  80   \n",
       "unique             3               10                10                  10   \n",
       "top           active      Sede Centro  Recargo por mora  Descuento hermanos   \n",
       "freq              71               12                14                  13   \n",
       "\n",
       "             concept_1_2  ... receipt_number_3_3 receipt_number_3_4  \\\n",
       "count                 80  ...                 25                 25   \n",
       "unique                10  ...                 25                 25   \n",
       "top     Recargo por mora  ...         REC-376218         REC-957987   \n",
       "freq                  12  ...                  1                  1   \n",
       "\n",
       "       receipt_number_3_5 receipt_number_3_6 receipt_number_3_7  \\\n",
       "count                  25                 25                 25   \n",
       "unique                 25                 25                 25   \n",
       "top            REC-402252         REC-724284         REC-901996   \n",
       "freq                    1                  1                  1   \n",
       "\n",
       "       receipt_number_3_8 receipt_number_3_9 state_1 state_2 state_3  \n",
       "count                  25                 25      80      54      25  \n",
       "unique                 25                 25       3       3       3  \n",
       "top            REC-125853         REC-452088  active  active  active  \n",
       "freq                    1                  1      53      38      21  \n",
       "\n",
       "[4 rows x 100 columns]"
      ]
     },
     "execution_count": 10,
     "metadata": {},
     "output_type": "execute_result"
    }
   ],
   "source": [
    "data.describe(include=['O'])"
   ]
  },
  {
   "cell_type": "code",
   "execution_count": 11,
   "id": "a6e02814",
   "metadata": {},
   "outputs": [
    {
     "data": {
      "text/html": [
       "<div>\n",
       "<style scoped>\n",
       "    .dataframe tbody tr th:only-of-type {\n",
       "        vertical-align: middle;\n",
       "    }\n",
       "\n",
       "    .dataframe tbody tr th {\n",
       "        vertical-align: top;\n",
       "    }\n",
       "\n",
       "    .dataframe thead th {\n",
       "        text-align: right;\n",
       "    }\n",
       "</style>\n",
       "<table border=\"1\" class=\"dataframe\">\n",
       "  <thead>\n",
       "    <tr style=\"text-align: right;\">\n",
       "      <th></th>\n",
       "      <th>name</th>\n",
       "      <th>last_name</th>\n",
       "      <th>type_document_id</th>\n",
       "      <th>email</th>\n",
       "      <th>phone</th>\n",
       "      <th>student_state</th>\n",
       "      <th>headquarter_name</th>\n",
       "      <th>concept_1_1</th>\n",
       "      <th>concept_1_10</th>\n",
       "      <th>concept_1_2</th>\n",
       "      <th>...</th>\n",
       "      <th>receipt_number_3_3</th>\n",
       "      <th>receipt_number_3_4</th>\n",
       "      <th>receipt_number_3_5</th>\n",
       "      <th>receipt_number_3_6</th>\n",
       "      <th>receipt_number_3_7</th>\n",
       "      <th>receipt_number_3_8</th>\n",
       "      <th>receipt_number_3_9</th>\n",
       "      <th>state_1</th>\n",
       "      <th>state_2</th>\n",
       "      <th>state_3</th>\n",
       "    </tr>\n",
       "  </thead>\n",
       "  <tbody>\n",
       "    <tr>\n",
       "      <th>count</th>\n",
       "      <td>80</td>\n",
       "      <td>80</td>\n",
       "      <td>80</td>\n",
       "      <td>80</td>\n",
       "      <td>80</td>\n",
       "      <td>80</td>\n",
       "      <td>80</td>\n",
       "      <td>80</td>\n",
       "      <td>80</td>\n",
       "      <td>80</td>\n",
       "      <td>...</td>\n",
       "      <td>25</td>\n",
       "      <td>25</td>\n",
       "      <td>25</td>\n",
       "      <td>25</td>\n",
       "      <td>25</td>\n",
       "      <td>25</td>\n",
       "      <td>25</td>\n",
       "      <td>80</td>\n",
       "      <td>54</td>\n",
       "      <td>25</td>\n",
       "    </tr>\n",
       "    <tr>\n",
       "      <th>unique</th>\n",
       "      <td>77</td>\n",
       "      <td>79</td>\n",
       "      <td>4</td>\n",
       "      <td>80</td>\n",
       "      <td>80</td>\n",
       "      <td>3</td>\n",
       "      <td>10</td>\n",
       "      <td>10</td>\n",
       "      <td>10</td>\n",
       "      <td>10</td>\n",
       "      <td>...</td>\n",
       "      <td>25</td>\n",
       "      <td>25</td>\n",
       "      <td>25</td>\n",
       "      <td>25</td>\n",
       "      <td>25</td>\n",
       "      <td>25</td>\n",
       "      <td>25</td>\n",
       "      <td>3</td>\n",
       "      <td>3</td>\n",
       "      <td>3</td>\n",
       "    </tr>\n",
       "    <tr>\n",
       "      <th>top</th>\n",
       "      <td>Abraham</td>\n",
       "      <td>Torralba</td>\n",
       "      <td>CC</td>\n",
       "      <td>amaya01@example.com</td>\n",
       "      <td>3359154708</td>\n",
       "      <td>active</td>\n",
       "      <td>Sede Centro</td>\n",
       "      <td>Recargo por mora</td>\n",
       "      <td>Descuento hermanos</td>\n",
       "      <td>Recargo por mora</td>\n",
       "      <td>...</td>\n",
       "      <td>REC-376218</td>\n",
       "      <td>REC-957987</td>\n",
       "      <td>REC-402252</td>\n",
       "      <td>REC-724284</td>\n",
       "      <td>REC-901996</td>\n",
       "      <td>REC-125853</td>\n",
       "      <td>REC-452088</td>\n",
       "      <td>active</td>\n",
       "      <td>active</td>\n",
       "      <td>active</td>\n",
       "    </tr>\n",
       "    <tr>\n",
       "      <th>freq</th>\n",
       "      <td>2</td>\n",
       "      <td>2</td>\n",
       "      <td>22</td>\n",
       "      <td>1</td>\n",
       "      <td>1</td>\n",
       "      <td>71</td>\n",
       "      <td>12</td>\n",
       "      <td>14</td>\n",
       "      <td>13</td>\n",
       "      <td>12</td>\n",
       "      <td>...</td>\n",
       "      <td>1</td>\n",
       "      <td>1</td>\n",
       "      <td>1</td>\n",
       "      <td>1</td>\n",
       "      <td>1</td>\n",
       "      <td>1</td>\n",
       "      <td>1</td>\n",
       "      <td>53</td>\n",
       "      <td>38</td>\n",
       "      <td>21</td>\n",
       "    </tr>\n",
       "  </tbody>\n",
       "</table>\n",
       "<p>4 rows × 100 columns</p>\n",
       "</div>"
      ],
      "text/plain": [
       "           name last_name type_document_id                email       phone  \\\n",
       "count        80        80               80                   80          80   \n",
       "unique       77        79                4                   80          80   \n",
       "top     Abraham  Torralba               CC  amaya01@example.com  3359154708   \n",
       "freq          2         2               22                    1           1   \n",
       "\n",
       "       student_state headquarter_name       concept_1_1        concept_1_10  \\\n",
       "count             80               80                80                  80   \n",
       "unique             3               10                10                  10   \n",
       "top           active      Sede Centro  Recargo por mora  Descuento hermanos   \n",
       "freq              71               12                14                  13   \n",
       "\n",
       "             concept_1_2  ... receipt_number_3_3 receipt_number_3_4  \\\n",
       "count                 80  ...                 25                 25   \n",
       "unique                10  ...                 25                 25   \n",
       "top     Recargo por mora  ...         REC-376218         REC-957987   \n",
       "freq                  12  ...                  1                  1   \n",
       "\n",
       "       receipt_number_3_5 receipt_number_3_6 receipt_number_3_7  \\\n",
       "count                  25                 25                 25   \n",
       "unique                 25                 25                 25   \n",
       "top            REC-402252         REC-724284         REC-901996   \n",
       "freq                    1                  1                  1   \n",
       "\n",
       "       receipt_number_3_8 receipt_number_3_9 state_1 state_2 state_3  \n",
       "count                  25                 25      80      54      25  \n",
       "unique                 25                 25       3       3       3  \n",
       "top            REC-125853         REC-452088  active  active  active  \n",
       "freq                    1                  1      53      38      21  \n",
       "\n",
       "[4 rows x 100 columns]"
      ]
     },
     "execution_count": 11,
     "metadata": {},
     "output_type": "execute_result"
    }
   ],
   "source": [
    "data.describe(include=['object'])"
   ]
  },
  {
   "cell_type": "markdown",
   "id": "cce85905",
   "metadata": {},
   "source": [
    "visualise size dataset"
   ]
  },
  {
   "cell_type": "code",
   "execution_count": 12,
   "id": "854d8233",
   "metadata": {},
   "outputs": [
    {
     "data": {
      "text/plain": [
       "(80, 131)"
      ]
     },
     "execution_count": 12,
     "metadata": {},
     "output_type": "execute_result"
    }
   ],
   "source": [
    "data.shape"
   ]
  },
  {
   "cell_type": "code",
   "execution_count": 14,
   "id": "93301f94",
   "metadata": {},
   "outputs": [
    {
     "name": "stdout",
     "output_type": "stream",
     "text": [
      "<class 'pandas.core.series.Series'>\n",
      "RangeIndex: 80 entries, 0 to 79\n",
      "Series name: email\n",
      "Non-Null Count  Dtype   \n",
      "--------------  -----   \n",
      "80 non-null     category\n",
      "dtypes: category(1)\n",
      "memory usage: 2.9 KB\n"
     ]
    }
   ],
   "source": [
    "# I'M WORKING HERE\n",
    "# Convert email to category(kind string), more efficient to best performance\n",
    "data['email'] = data['email'].astype('category')\n",
    "data['email'].info()"
   ]
  },
  {
   "cell_type": "markdown",
   "id": "823a5fba",
   "metadata": {},
   "source": [
    "Finding Outliers - Using graphics"
   ]
  },
  {
   "cell_type": "code",
   "execution_count": 15,
   "id": "0e474f13",
   "metadata": {},
   "outputs": [
    {
     "name": "stderr",
     "output_type": "stream",
     "text": [
      "/var/folders/cm/3twsr_7954j7r3xfp1_yd7qc0000gn/T/ipykernel_53324/2441819384.py:5: RuntimeWarning: More than 20 figures have been opened. Figures created through the pyplot interface (`matplotlib.pyplot.figure`) are retained until explicitly closed and may consume too much memory. (To control this warning, see the rcParam `figure.max_open_warning`). Consider using `matplotlib.pyplot.close()`.\n",
      "  plt.figure(figsize=(10, 1))\n"
     ]
    },
    {
     "data": {
      "image/png": "[encoded data removed]",
      "text/plain": [
       "<Figure size 1000x100 with 1 Axes>"
      ]
     },
     "metadata": {},
     "output_type": "display_data"
    },
    {
     "data": {
      "image/png": "[encoded data removed]",
      "text/plain": [
       "<Figure size 1000x100 with 1 Axes>"
      ]
     },
     "metadata": {},
     "output_type": "display_data"
    },
    {
     "data": {
      "image/png": "[encoded data removed]",
      "text/plain": [
       "<Figure size 1000x100 with 1 Axes>"
      ]
     },
     "metadata": {},
     "output_type": "display_data"
    },
    {
     "data": {
      "image/png": "[encoded data removed]",
      "text/plain": [
       "<Figure size 1000x100 with 1 Axes>"
      ]
     },
     "metadata": {},
     "output_type": "display_data"
    },
    {
     "data": {
      "image/png": "[encoded data removed]",
      "text/plain": [
       "<Figure size 1000x100 with 1 Axes>"
      ]
     },
     "metadata": {},
     "output_type": "display_data"
    },
    {
     "data": {
      "image/png": "[encoded data removed]",
      "text/plain": [
       "<Figure size 1000x100 with 1 Axes>"
      ]
     },
     "metadata": {},
     "output_type": "display_data"
    },
    {
     "data": {
      "image/png": "[encoded data removed]",
      "text/plain": [
       "<Figure size 1000x100 with 1 Axes>"
      ]
     },
     "metadata": {},
     "output_type": "display_data"
    },
    {
     "data": {
      "image/png": "[encoded data removed]",
      "text/plain": [
       "<Figure size 1000x100 with 1 Axes>"
      ]
     },
     "metadata": {},
     "output_type": "display_data"
    },
    {
     "data": {
      "image/png": "[encoded data removed]",
      "text/plain": [
       "<Figure size 1000x100 with 1 Axes>"
      ]
     },
     "metadata": {},
     "output_type": "display_data"
    },
    {
     "data": {
      "image/png": "[encoded data removed]",
      "text/plain": [
       "<Figure size 1000x100 with 1 Axes>"
      ]
     },
     "metadata": {},
     "output_type": "display_data"
    },
    {
     "data": {
      "image/png": "[encoded data removed]",
      "text/plain": [
       "<Figure size 1000x100 with 1 Axes>"
      ]
     },
     "metadata": {},
     "output_type": "display_data"
    },
    {
     "data": {
      "image/png": "[encoded data removed]",
      "text/plain": [
       "<Figure size 1000x100 with 1 Axes>"
      ]
     },
     "metadata": {},
     "output_type": "display_data"
    },
    {
     "data": {
      "image/png": "[encoded data removed]",
      "text/plain": [
       "<Figure size 1000x100 with 1 Axes>"
      ]
     },
     "metadata": {},
     "output_type": "display_data"
    },
    {
     "data": {
      "image/png": "[encoded data removed]",
      "text/plain": [
       "<Figure size 1000x100 with 1 Axes>"
      ]
     },
     "metadata": {},
     "output_type": "display_data"
    },
    {
     "data": {
      "image/png": "[encoded data removed]",
      "text/plain": [
       "<Figure size 1000x100 with 1 Axes>"
      ]
     },
     "metadata": {},
     "output_type": "display_data"
    },
    {
     "data": {
      "image/png": "[encoded data removed]",
      "text/plain": [
       "<Figure size 1000x100 with 1 Axes>"
      ]
     },
     "metadata": {},
     "output_type": "display_data"
    },
    {
     "data": {
      "image/png": "[encoded data removed]",
      "text/plain": [
       "<Figure size 1000x100 with 1 Axes>"
      ]
     },
     "metadata": {},
     "output_type": "display_data"
    },
    {
     "data": {
      "image/png": "[encoded data removed]",
      "text/plain": [
       "<Figure size 1000x100 with 1 Axes>"
      ]
     },
     "metadata": {},
     "output_type": "display_data"
    },
    {
     "data": {
      "image/png": "[encoded data removed]",
      "text/plain": [
       "<Figure size 1000x100 with 1 Axes>"
      ]
     },
     "metadata": {},
     "output_type": "display_data"
    },
    {
     "data": {
      "image/png": "[encoded data removed]",
      "text/plain": [
       "<Figure size 1000x100 with 1 Axes>"
      ]
     },
     "metadata": {},
     "output_type": "display_data"
    },
    {
     "data": {
      "image/png": "[encoded data removed]",
      "text/plain": [
       "<Figure size 1000x100 with 1 Axes>"
      ]
     },
     "metadata": {},
     "output_type": "display_data"
    },
    {
     "data": {
      "image/png": "[encoded data removed]",
      "text/plain": [
       "<Figure size 1000x100 with 1 Axes>"
      ]
     },
     "metadata": {},
     "output_type": "display_data"
    },
    {
     "data": {
      "image/png": "[encoded data removed]",
      "text/plain": [
       "<Figure size 1000x100 with 1 Axes>"
      ]
     },
     "metadata": {},
     "output_type": "display_data"
    },
    {
     "data": {
      "image/png": "[encoded data removed]",
      "text/plain": [
       "<Figure size 1000x100 with 1 Axes>"
      ]
     },
     "metadata": {},
     "output_type": "display_data"
    },
    {
     "data": {
      "image/png": "[encoded data removed]",
      "text/plain": [
       "<Figure size 1000x100 with 1 Axes>"
      ]
     },
     "metadata": {},
     "output_type": "display_data"
    },
    {
     "data": {
      "image/png": "[encoded data removed]",
      "text/plain": [
       "<Figure size 1000x100 with 1 Axes>"
      ]
     },
     "metadata": {},
     "output_type": "display_data"
    },
    {
     "data": {
      "image/png": "[encoded data removed]",
      "text/plain": [
       "<Figure size 1000x100 with 1 Axes>"
      ]
     },
     "metadata": {},
     "output_type": "display_data"
    },
    {
     "data": {
      "image/png": "[encoded data removed]",
      "text/plain": [
       "<Figure size 1000x100 with 1 Axes>"
      ]
     },
     "metadata": {},
     "output_type": "display_data"
    },
    {
     "data": {
      "image/png": "[encoded data removed]",
      "text/plain": [
       "<Figure size 1000x100 with 1 Axes>"
      ]
     },
     "metadata": {},
     "output_type": "display_data"
    },
    {
     "data": {
      "image/png": "[encoded data removed]",
      "text/plain": [
       "<Figure size 1000x100 with 1 Axes>"
      ]
     },
     "metadata": {},
     "output_type": "display_data"
    },
    {
     "data": {
      "image/png": "[encoded data removed]",
      "text/plain": [
       "<Figure size 1000x100 with 1 Axes>"
      ]
     },
     "metadata": {},
     "output_type": "display_data"
    }
   ],
   "source": [
    "# number are including all the columns with numeric data\n",
    "cols = data.select_dtypes(include=['number']).columns\n",
    "\n",
    "for column in cols:\n",
    "  plt.figure(figsize=(10, 1))\n",
    "  sns.boxplot(data=data[cols], x=column)\n"
   ]
  },
  {
   "cell_type": "markdown",
   "id": "d84e83cd",
   "metadata": {},
   "source": [
    "Outliers - Calc"
   ]
  },
  {
   "cell_type": "markdown",
   "id": "1b620405",
   "metadata": {},
   "source": [
    "IRQ = rango interquartilico\n",
    "\n",
    "----Q1(25%)----Q2(50%)----Q3(75%)----"
   ]
  },
  {
   "cell_type": "code",
   "execution_count": 16,
   "id": "3f202394",
   "metadata": {},
   "outputs": [
    {
     "name": "stdout",
     "output_type": "stream",
     "text": [
      "document_id: 0\n",
      "amount_1_1: 0\n",
      "amount_1_10: 0\n",
      "amount_1_2: 0\n",
      "amount_1_3: 0\n",
      "amount_1_4: 0\n",
      "amount_1_5: 0\n",
      "amount_1_6: 0\n",
      "amount_1_7: 0\n",
      "amount_1_8: 0\n",
      "amount_1_9: 0\n",
      "amount_2_1: 0\n",
      "amount_2_10: 0\n",
      "amount_2_2: 0\n",
      "amount_2_3: 0\n",
      "amount_2_4: 0\n",
      "amount_2_5: 0\n",
      "amount_2_6: 0\n",
      "amount_2_7: 0\n",
      "amount_2_8: 0\n",
      "amount_2_9: 0\n",
      "amount_3_1: 0\n",
      "amount_3_10: 0\n",
      "amount_3_2: 0\n",
      "amount_3_3: 0\n",
      "amount_3_4: 0\n",
      "amount_3_5: 0\n",
      "amount_3_6: 0\n",
      "amount_3_7: 0\n",
      "amount_3_8: 0\n",
      "amount_3_9: 0\n"
     ]
    }
   ],
   "source": [
    "outliers = {}\n",
    "\n",
    "for col in cols:\n",
    "  Q1 = np.percentile(data[col], 25)\n",
    "  Q3 = np.percentile(data[col], 75)\n",
    "  # Take Q2 && Q3\n",
    "  IRQ = Q3 - Q1\n",
    "  # Calculate the limits\n",
    "  lower_limit = Q1 - 1.5 * IRQ\n",
    "  upper_limit = Q3 + 1.5 * IRQ\n",
    "  # Find outliers\n",
    "  outliers[col] = data[col][(data[col] < lower_limit) | (data[col] > upper_limit)]\n",
    "  print(f'{col}: {len(outliers[col])\n",
    "  }')\n",
    "\n"
   ]
  },
  {
   "cell_type": "markdown",
   "id": "bbe32e9a",
   "metadata": {},
   "source": [
    "Desviación standar"
   ]
  },
  {
   "cell_type": "code",
   "execution_count": 17,
   "id": "5447c5d0",
   "metadata": {},
   "outputs": [
    {
     "name": "stdout",
     "output_type": "stream",
     "text": [
      "document_id: 0\n",
      "amount_1_1: 0\n",
      "amount_1_10: 0\n",
      "amount_1_2: 0\n",
      "amount_1_3: 0\n",
      "amount_1_4: 0\n",
      "amount_1_5: 0\n",
      "amount_1_6: 0\n",
      "amount_1_7: 0\n",
      "amount_1_8: 0\n",
      "amount_1_9: 0\n",
      "amount_2_1: 0\n",
      "amount_2_10: 0\n",
      "amount_2_2: 0\n",
      "amount_2_3: 0\n",
      "amount_2_4: 0\n",
      "amount_2_5: 0\n",
      "amount_2_6: 0\n",
      "amount_2_7: 0\n",
      "amount_2_8: 0\n",
      "amount_2_9: 0\n",
      "amount_3_1: 0\n",
      "amount_3_10: 0\n",
      "amount_3_2: 0\n",
      "amount_3_3: 0\n",
      "amount_3_4: 0\n",
      "amount_3_5: 0\n",
      "amount_3_6: 0\n",
      "amount_3_7: 0\n",
      "amount_3_8: 0\n",
      "amount_3_9: 0\n"
     ]
    }
   ],
   "source": [
    "# Desviación standar\n",
    "outliers2 = {}\n",
    "\n",
    "for col in cols:\n",
    "  mean = data[col].mean()\n",
    "  std = data[col].std()\n",
    "  # Calculate the limits\n",
    "  lower_limit = mean - 3 * std\n",
    "  upper_limit = mean + 3 * std\n",
    "  # Find outliers\n",
    "  outliers2[col] = data[col][(data[col] < lower_limit) | (data[col] > upper_limit)]\n",
    "  print(f'{col}: {len(outliers2[col])}')\n",
    "\n",
    "\n",
    "\n",
    "\n",
    "\n"
   ]
  },
  {
   "cell_type": "code",
   "execution_count": null,
   "id": "0b468a3c",
   "metadata": {},
   "outputs": [
    {
     "data": {
      "text/plain": [
       "<Axes: xlabel='amount_1_1', ylabel='Count'>"
      ]
     },
     "execution_count": 19,
     "metadata": {},
     "output_type": "execute_result"
    },
    {
     "data": {
      "image/png": "[encoded data removed]",
      "text/plain": [
       "<Figure size 640x480 with 1 Axes>"
      ]
     },
     "metadata": {},
     "output_type": "display_data"
    }
   ],
   "source": [
    "# Plot a histogram of the 'amount_1_1' column to visualize the distribution of transaction amounts\n",
    "# The 'kde=True' argument enables the plotting of the kernel density estimate of the underlying distribution\n",
    "sns.histplot(data=data, x='amount_1_1', kde=True)"
   ]
  },
  {
   "cell_type": "code",
   "execution_count": 20,
   "id": "98ac11f1",
   "metadata": {},
   "outputs": [
    {
     "data": {
      "text/plain": [
       "<Axes: xlabel='amount_1_10', ylabel='Count'>"
      ]
     },
     "execution_count": 20,
     "metadata": {},
     "output_type": "execute_result"
    },
    {
     "data": {
      "image/png": "[encoded data removed]",
      "text/plain": [
       "<Figure size 640x480 with 1 Axes>"
      ]
     },
     "metadata": {},
     "output_type": "display_data"
    }
   ],
   "source": [
    "sns.histplot(data=data, x='amount_1_10', kde=True)"
   ]
  },
  {
   "cell_type": "markdown",
   "id": "2981797e",
   "metadata": {},
   "source": []
  },
  {
   "cell_type": "markdown",
   "id": "b0d9ed25",
   "metadata": {},
   "source": [
    "Validate null values with .isna()"
   ]
  },
  {
   "cell_type": "code",
   "execution_count": 21,
   "id": "7c7e0175",
   "metadata": {},
   "outputs": [
    {
     "data": {
      "text/html": [
       "<div>\n",
       "<style scoped>\n",
       "    .dataframe tbody tr th:only-of-type {\n",
       "        vertical-align: middle;\n",
       "    }\n",
       "\n",
       "    .dataframe tbody tr th {\n",
       "        vertical-align: top;\n",
       "    }\n",
       "\n",
       "    .dataframe thead th {\n",
       "        text-align: right;\n",
       "    }\n",
       "</style>\n",
       "<table border=\"1\" class=\"dataframe\">\n",
       "  <thead>\n",
       "    <tr style=\"text-align: right;\">\n",
       "      <th></th>\n",
       "      <th>name</th>\n",
       "      <th>last_name</th>\n",
       "      <th>type_document_id</th>\n",
       "      <th>document_id</th>\n",
       "      <th>email</th>\n",
       "      <th>phone</th>\n",
       "      <th>student_state</th>\n",
       "      <th>headquarter_name</th>\n",
       "      <th>amount_1_1</th>\n",
       "      <th>amount_1_10</th>\n",
       "      <th>...</th>\n",
       "      <th>receipt_number_3_3</th>\n",
       "      <th>receipt_number_3_4</th>\n",
       "      <th>receipt_number_3_5</th>\n",
       "      <th>receipt_number_3_6</th>\n",
       "      <th>receipt_number_3_7</th>\n",
       "      <th>receipt_number_3_8</th>\n",
       "      <th>receipt_number_3_9</th>\n",
       "      <th>state_1</th>\n",
       "      <th>state_2</th>\n",
       "      <th>state_3</th>\n",
       "    </tr>\n",
       "  </thead>\n",
       "  <tbody>\n",
       "    <tr>\n",
       "      <th>0</th>\n",
       "      <td>False</td>\n",
       "      <td>False</td>\n",
       "      <td>False</td>\n",
       "      <td>False</td>\n",
       "      <td>False</td>\n",
       "      <td>False</td>\n",
       "      <td>False</td>\n",
       "      <td>False</td>\n",
       "      <td>False</td>\n",
       "      <td>False</td>\n",
       "      <td>...</td>\n",
       "      <td>True</td>\n",
       "      <td>True</td>\n",
       "      <td>True</td>\n",
       "      <td>True</td>\n",
       "      <td>True</td>\n",
       "      <td>True</td>\n",
       "      <td>True</td>\n",
       "      <td>False</td>\n",
       "      <td>True</td>\n",
       "      <td>True</td>\n",
       "    </tr>\n",
       "    <tr>\n",
       "      <th>1</th>\n",
       "      <td>False</td>\n",
       "      <td>False</td>\n",
       "      <td>False</td>\n",
       "      <td>False</td>\n",
       "      <td>False</td>\n",
       "      <td>False</td>\n",
       "      <td>False</td>\n",
       "      <td>False</td>\n",
       "      <td>False</td>\n",
       "      <td>False</td>\n",
       "      <td>...</td>\n",
       "      <td>False</td>\n",
       "      <td>False</td>\n",
       "      <td>False</td>\n",
       "      <td>False</td>\n",
       "      <td>False</td>\n",
       "      <td>False</td>\n",
       "      <td>False</td>\n",
       "      <td>False</td>\n",
       "      <td>False</td>\n",
       "      <td>False</td>\n",
       "    </tr>\n",
       "    <tr>\n",
       "      <th>2</th>\n",
       "      <td>False</td>\n",
       "      <td>False</td>\n",
       "      <td>False</td>\n",
       "      <td>False</td>\n",
       "      <td>False</td>\n",
       "      <td>False</td>\n",
       "      <td>False</td>\n",
       "      <td>False</td>\n",
       "      <td>False</td>\n",
       "      <td>False</td>\n",
       "      <td>...</td>\n",
       "      <td>True</td>\n",
       "      <td>True</td>\n",
       "      <td>True</td>\n",
       "      <td>True</td>\n",
       "      <td>True</td>\n",
       "      <td>True</td>\n",
       "      <td>True</td>\n",
       "      <td>False</td>\n",
       "      <td>False</td>\n",
       "      <td>True</td>\n",
       "    </tr>\n",
       "    <tr>\n",
       "      <th>3</th>\n",
       "      <td>False</td>\n",
       "      <td>False</td>\n",
       "      <td>False</td>\n",
       "      <td>False</td>\n",
       "      <td>False</td>\n",
       "      <td>False</td>\n",
       "      <td>False</td>\n",
       "      <td>False</td>\n",
       "      <td>False</td>\n",
       "      <td>False</td>\n",
       "      <td>...</td>\n",
       "      <td>True</td>\n",
       "      <td>True</td>\n",
       "      <td>True</td>\n",
       "      <td>True</td>\n",
       "      <td>True</td>\n",
       "      <td>True</td>\n",
       "      <td>True</td>\n",
       "      <td>False</td>\n",
       "      <td>False</td>\n",
       "      <td>True</td>\n",
       "    </tr>\n",
       "    <tr>\n",
       "      <th>4</th>\n",
       "      <td>False</td>\n",
       "      <td>False</td>\n",
       "      <td>False</td>\n",
       "      <td>False</td>\n",
       "      <td>False</td>\n",
       "      <td>False</td>\n",
       "      <td>False</td>\n",
       "      <td>False</td>\n",
       "      <td>False</td>\n",
       "      <td>False</td>\n",
       "      <td>...</td>\n",
       "      <td>True</td>\n",
       "      <td>True</td>\n",
       "      <td>True</td>\n",
       "      <td>True</td>\n",
       "      <td>True</td>\n",
       "      <td>True</td>\n",
       "      <td>True</td>\n",
       "      <td>False</td>\n",
       "      <td>False</td>\n",
       "      <td>True</td>\n",
       "    </tr>\n",
       "    <tr>\n",
       "      <th>...</th>\n",
       "      <td>...</td>\n",
       "      <td>...</td>\n",
       "      <td>...</td>\n",
       "      <td>...</td>\n",
       "      <td>...</td>\n",
       "      <td>...</td>\n",
       "      <td>...</td>\n",
       "      <td>...</td>\n",
       "      <td>...</td>\n",
       "      <td>...</td>\n",
       "      <td>...</td>\n",
       "      <td>...</td>\n",
       "      <td>...</td>\n",
       "      <td>...</td>\n",
       "      <td>...</td>\n",
       "      <td>...</td>\n",
       "      <td>...</td>\n",
       "      <td>...</td>\n",
       "      <td>...</td>\n",
       "      <td>...</td>\n",
       "      <td>...</td>\n",
       "    </tr>\n",
       "    <tr>\n",
       "      <th>75</th>\n",
       "      <td>False</td>\n",
       "      <td>False</td>\n",
       "      <td>False</td>\n",
       "      <td>False</td>\n",
       "      <td>False</td>\n",
       "      <td>False</td>\n",
       "      <td>False</td>\n",
       "      <td>False</td>\n",
       "      <td>False</td>\n",
       "      <td>False</td>\n",
       "      <td>...</td>\n",
       "      <td>True</td>\n",
       "      <td>True</td>\n",
       "      <td>True</td>\n",
       "      <td>True</td>\n",
       "      <td>True</td>\n",
       "      <td>True</td>\n",
       "      <td>True</td>\n",
       "      <td>False</td>\n",
       "      <td>True</td>\n",
       "      <td>True</td>\n",
       "    </tr>\n",
       "    <tr>\n",
       "      <th>76</th>\n",
       "      <td>False</td>\n",
       "      <td>False</td>\n",
       "      <td>False</td>\n",
       "      <td>False</td>\n",
       "      <td>False</td>\n",
       "      <td>False</td>\n",
       "      <td>False</td>\n",
       "      <td>False</td>\n",
       "      <td>False</td>\n",
       "      <td>False</td>\n",
       "      <td>...</td>\n",
       "      <td>True</td>\n",
       "      <td>True</td>\n",
       "      <td>True</td>\n",
       "      <td>True</td>\n",
       "      <td>True</td>\n",
       "      <td>True</td>\n",
       "      <td>True</td>\n",
       "      <td>False</td>\n",
       "      <td>False</td>\n",
       "      <td>True</td>\n",
       "    </tr>\n",
       "    <tr>\n",
       "      <th>77</th>\n",
       "      <td>False</td>\n",
       "      <td>False</td>\n",
       "      <td>False</td>\n",
       "      <td>False</td>\n",
       "      <td>False</td>\n",
       "      <td>False</td>\n",
       "      <td>False</td>\n",
       "      <td>False</td>\n",
       "      <td>False</td>\n",
       "      <td>False</td>\n",
       "      <td>...</td>\n",
       "      <td>True</td>\n",
       "      <td>True</td>\n",
       "      <td>True</td>\n",
       "      <td>True</td>\n",
       "      <td>True</td>\n",
       "      <td>True</td>\n",
       "      <td>True</td>\n",
       "      <td>False</td>\n",
       "      <td>True</td>\n",
       "      <td>True</td>\n",
       "    </tr>\n",
       "    <tr>\n",
       "      <th>78</th>\n",
       "      <td>False</td>\n",
       "      <td>False</td>\n",
       "      <td>False</td>\n",
       "      <td>False</td>\n",
       "      <td>False</td>\n",
       "      <td>False</td>\n",
       "      <td>False</td>\n",
       "      <td>False</td>\n",
       "      <td>False</td>\n",
       "      <td>False</td>\n",
       "      <td>...</td>\n",
       "      <td>True</td>\n",
       "      <td>True</td>\n",
       "      <td>True</td>\n",
       "      <td>True</td>\n",
       "      <td>True</td>\n",
       "      <td>True</td>\n",
       "      <td>True</td>\n",
       "      <td>False</td>\n",
       "      <td>True</td>\n",
       "      <td>True</td>\n",
       "    </tr>\n",
       "    <tr>\n",
       "      <th>79</th>\n",
       "      <td>False</td>\n",
       "      <td>False</td>\n",
       "      <td>False</td>\n",
       "      <td>False</td>\n",
       "      <td>False</td>\n",
       "      <td>False</td>\n",
       "      <td>False</td>\n",
       "      <td>False</td>\n",
       "      <td>False</td>\n",
       "      <td>False</td>\n",
       "      <td>...</td>\n",
       "      <td>True</td>\n",
       "      <td>True</td>\n",
       "      <td>True</td>\n",
       "      <td>True</td>\n",
       "      <td>True</td>\n",
       "      <td>True</td>\n",
       "      <td>True</td>\n",
       "      <td>False</td>\n",
       "      <td>True</td>\n",
       "      <td>True</td>\n",
       "    </tr>\n",
       "  </tbody>\n",
       "</table>\n",
       "<p>80 rows × 131 columns</p>\n",
       "</div>"
      ],
      "text/plain": [
       "     name  last_name  type_document_id  document_id  email  phone  \\\n",
       "0   False      False             False        False  False  False   \n",
       "1   False      False             False        False  False  False   \n",
       "2   False      False             False        False  False  False   \n",
       "3   False      False             False        False  False  False   \n",
       "4   False      False             False        False  False  False   \n",
       "..    ...        ...               ...          ...    ...    ...   \n",
       "75  False      False             False        False  False  False   \n",
       "76  False      False             False        False  False  False   \n",
       "77  False      False             False        False  False  False   \n",
       "78  False      False             False        False  False  False   \n",
       "79  False      False             False        False  False  False   \n",
       "\n",
       "    student_state  headquarter_name  amount_1_1  amount_1_10  ...  \\\n",
       "0           False             False       False        False  ...   \n",
       "1           False             False       False        False  ...   \n",
       "2           False             False       False        False  ...   \n",
       "3           False             False       False        False  ...   \n",
       "4           False             False       False        False  ...   \n",
       "..            ...               ...         ...          ...  ...   \n",
       "75          False             False       False        False  ...   \n",
       "76          False             False       False        False  ...   \n",
       "77          False             False       False        False  ...   \n",
       "78          False             False       False        False  ...   \n",
       "79          False             False       False        False  ...   \n",
       "\n",
       "    receipt_number_3_3  receipt_number_3_4  receipt_number_3_5  \\\n",
       "0                 True                True                True   \n",
       "1                False               False               False   \n",
       "2                 True                True                True   \n",
       "3                 True                True                True   \n",
       "4                 True                True                True   \n",
       "..                 ...                 ...                 ...   \n",
       "75                True                True                True   \n",
       "76                True                True                True   \n",
       "77                True                True                True   \n",
       "78                True                True                True   \n",
       "79                True                True                True   \n",
       "\n",
       "    receipt_number_3_6  receipt_number_3_7  receipt_number_3_8  \\\n",
       "0                 True                True                True   \n",
       "1                False               False               False   \n",
       "2                 True                True                True   \n",
       "3                 True                True                True   \n",
       "4                 True                True                True   \n",
       "..                 ...                 ...                 ...   \n",
       "75                True                True                True   \n",
       "76                True                True                True   \n",
       "77                True                True                True   \n",
       "78                True                True                True   \n",
       "79                True                True                True   \n",
       "\n",
       "    receipt_number_3_9  state_1  state_2  state_3  \n",
       "0                 True    False     True     True  \n",
       "1                False    False    False    False  \n",
       "2                 True    False    False     True  \n",
       "3                 True    False    False     True  \n",
       "4                 True    False    False     True  \n",
       "..                 ...      ...      ...      ...  \n",
       "75                True    False     True     True  \n",
       "76                True    False    False     True  \n",
       "77                True    False     True     True  \n",
       "78                True    False     True     True  \n",
       "79                True    False     True     True  \n",
       "\n",
       "[80 rows x 131 columns]"
      ]
     },
     "execution_count": 21,
     "metadata": {},
     "output_type": "execute_result"
    }
   ],
   "source": [
    "data.isna()"
   ]
  },
  {
   "cell_type": "markdown",
   "id": "f37a5b63",
   "metadata": {},
   "source": [
    "Count null values"
   ]
  },
  {
   "cell_type": "code",
   "execution_count": 23,
   "id": "0ce69c2d",
   "metadata": {},
   "outputs": [
    {
     "data": {
      "text/plain": [
       "name                   0\n",
       "last_name              0\n",
       "type_document_id       0\n",
       "document_id            0\n",
       "email                  0\n",
       "                      ..\n",
       "receipt_number_3_8    55\n",
       "receipt_number_3_9    55\n",
       "state_1                0\n",
       "state_2               26\n",
       "state_3               55\n",
       "Length: 131, dtype: int64"
      ]
     },
     "execution_count": 23,
     "metadata": {},
     "output_type": "execute_result"
    }
   ],
   "source": [
    "\"\"\"\n",
    "Returns the count of missing values in the DataFrame.\n",
    "\n",
    "This function returns the number of missing values in each column of the DataFrame.\n",
    "Missing values are represented as NaN (Not a Number) values.\n",
    "\n",
    "Parameters\n",
    "----------\n",
    "\n",
    "None\n",
    "\n",
    "Returns\n",
    "-------\n",
    "int\n",
    "    The count of missing values in the DataFrame.\n",
    "\n",
    "Examples\n",
    "--------\n",
    "data.isna().sum()\n",
    "# Returns the count of missing values in the DataFrame.\n",
    "\"\"\"\n",
    "data.isna().sum()"
   ]
  },
  {
   "cell_type": "markdown",
   "id": "255f2060",
   "metadata": {},
   "source": [
    "Delete null values"
   ]
  },
  {
   "cell_type": "code",
   "execution_count": 24,
   "id": "7d924f1c",
   "metadata": {},
   "outputs": [],
   "source": [
    "# inplace=True to modify the original dataframe\n",
    "# inplace=False to create a new dataframe\n",
    "# example:\n",
    "# data_new = data.drop('receipt_number_3_8', axis=1, inplace=False)\n",
    "\n",
    "# axis=1 to drop the column\n",
    "# axis=0 to drop the row\n",
    "data.drop('receipt_number_3_8', axis=1, inplace=True)"
   ]
  },
  {
   "cell_type": "code",
   "execution_count": 26,
   "id": "e993bf54",
   "metadata": {},
   "outputs": [
    {
     "ename": "KeyError",
     "evalue": "'receipt_number_3_8'",
     "output_type": "error",
     "traceback": [
      "\u001b[31m---------------------------------------------------------------------------\u001b[39m",
      "\u001b[31mKeyError\u001b[39m                                  Traceback (most recent call last)",
      "\u001b[36mFile \u001b[39m\u001b[32m~/software_engineer/side_projects/university/BI/first_project/logistic_project_env/lib/python3.13/site-packages/pandas/core/indexes/base.py:3812\u001b[39m, in \u001b[36mIndex.get_loc\u001b[39m\u001b[34m(self, key)\u001b[39m\n\u001b[32m   3811\u001b[39m \u001b[38;5;28;01mtry\u001b[39;00m:\n\u001b[32m-> \u001b[39m\u001b[32m3812\u001b[39m     \u001b[38;5;28;01mreturn\u001b[39;00m \u001b[38;5;28;43mself\u001b[39;49m\u001b[43m.\u001b[49m\u001b[43m_engine\u001b[49m\u001b[43m.\u001b[49m\u001b[43mget_loc\u001b[49m\u001b[43m(\u001b[49m\u001b[43mcasted_key\u001b[49m\u001b[43m)\u001b[49m\n\u001b[32m   3813\u001b[39m \u001b[38;5;28;01mexcept\u001b[39;00m \u001b[38;5;167;01mKeyError\u001b[39;00m \u001b[38;5;28;01mas\u001b[39;00m err:\n",
      "\u001b[36mFile \u001b[39m\u001b[32mpandas/_libs/index.pyx:167\u001b[39m, in \u001b[36mpandas._libs.index.IndexEngine.get_loc\u001b[39m\u001b[34m()\u001b[39m\n",
      "\u001b[36mFile \u001b[39m\u001b[32mpandas/_libs/index.pyx:196\u001b[39m, in \u001b[36mpandas._libs.index.IndexEngine.get_loc\u001b[39m\u001b[34m()\u001b[39m\n",
      "\u001b[36mFile \u001b[39m\u001b[32mpandas/_libs/hashtable_class_helper.pxi:7088\u001b[39m, in \u001b[36mpandas._libs.hashtable.PyObjectHashTable.get_item\u001b[39m\u001b[34m()\u001b[39m\n",
      "\u001b[36mFile \u001b[39m\u001b[32mpandas/_libs/hashtable_class_helper.pxi:7096\u001b[39m, in \u001b[36mpandas._libs.hashtable.PyObjectHashTable.get_item\u001b[39m\u001b[34m()\u001b[39m\n",
      "\u001b[31mKeyError\u001b[39m: 'receipt_number_3_8'",
      "\nThe above exception was the direct cause of the following exception:\n",
      "\u001b[31mKeyError\u001b[39m                                  Traceback (most recent call last)",
      "\u001b[36mCell\u001b[39m\u001b[36m \u001b[39m\u001b[32mIn[26]\u001b[39m\u001b[32m, line 1\u001b[39m\n\u001b[32m----> \u001b[39m\u001b[32m1\u001b[39m \u001b[43mdata\u001b[49m\u001b[43m[\u001b[49m\u001b[33;43m'\u001b[39;49m\u001b[33;43mreceipt_number_3_8\u001b[39;49m\u001b[33;43m'\u001b[39;49m\u001b[43m]\u001b[49m.info()\n",
      "\u001b[36mFile \u001b[39m\u001b[32m~/software_engineer/side_projects/university/BI/first_project/logistic_project_env/lib/python3.13/site-packages/pandas/core/frame.py:4113\u001b[39m, in \u001b[36mDataFrame.__getitem__\u001b[39m\u001b[34m(self, key)\u001b[39m\n\u001b[32m   4111\u001b[39m \u001b[38;5;28;01mif\u001b[39;00m \u001b[38;5;28mself\u001b[39m.columns.nlevels > \u001b[32m1\u001b[39m:\n\u001b[32m   4112\u001b[39m     \u001b[38;5;28;01mreturn\u001b[39;00m \u001b[38;5;28mself\u001b[39m._getitem_multilevel(key)\n\u001b[32m-> \u001b[39m\u001b[32m4113\u001b[39m indexer = \u001b[38;5;28;43mself\u001b[39;49m\u001b[43m.\u001b[49m\u001b[43mcolumns\u001b[49m\u001b[43m.\u001b[49m\u001b[43mget_loc\u001b[49m\u001b[43m(\u001b[49m\u001b[43mkey\u001b[49m\u001b[43m)\u001b[49m\n\u001b[32m   4114\u001b[39m \u001b[38;5;28;01mif\u001b[39;00m is_integer(indexer):\n\u001b[32m   4115\u001b[39m     indexer = [indexer]\n",
      "\u001b[36mFile \u001b[39m\u001b[32m~/software_engineer/side_projects/university/BI/first_project/logistic_project_env/lib/python3.13/site-packages/pandas/core/indexes/base.py:3819\u001b[39m, in \u001b[36mIndex.get_loc\u001b[39m\u001b[34m(self, key)\u001b[39m\n\u001b[32m   3814\u001b[39m     \u001b[38;5;28;01mif\u001b[39;00m \u001b[38;5;28misinstance\u001b[39m(casted_key, \u001b[38;5;28mslice\u001b[39m) \u001b[38;5;129;01mor\u001b[39;00m (\n\u001b[32m   3815\u001b[39m         \u001b[38;5;28misinstance\u001b[39m(casted_key, abc.Iterable)\n\u001b[32m   3816\u001b[39m         \u001b[38;5;129;01mand\u001b[39;00m \u001b[38;5;28many\u001b[39m(\u001b[38;5;28misinstance\u001b[39m(x, \u001b[38;5;28mslice\u001b[39m) \u001b[38;5;28;01mfor\u001b[39;00m x \u001b[38;5;129;01min\u001b[39;00m casted_key)\n\u001b[32m   3817\u001b[39m     ):\n\u001b[32m   3818\u001b[39m         \u001b[38;5;28;01mraise\u001b[39;00m InvalidIndexError(key)\n\u001b[32m-> \u001b[39m\u001b[32m3819\u001b[39m     \u001b[38;5;28;01mraise\u001b[39;00m \u001b[38;5;167;01mKeyError\u001b[39;00m(key) \u001b[38;5;28;01mfrom\u001b[39;00m\u001b[38;5;250m \u001b[39m\u001b[34;01merr\u001b[39;00m\n\u001b[32m   3820\u001b[39m \u001b[38;5;28;01mexcept\u001b[39;00m \u001b[38;5;167;01mTypeError\u001b[39;00m:\n\u001b[32m   3821\u001b[39m     \u001b[38;5;66;03m# If we have a listlike key, _check_indexing_error will raise\u001b[39;00m\n\u001b[32m   3822\u001b[39m     \u001b[38;5;66;03m#  InvalidIndexError. Otherwise we fall through and re-raise\u001b[39;00m\n\u001b[32m   3823\u001b[39m     \u001b[38;5;66;03m#  the TypeError.\u001b[39;00m\n\u001b[32m   3824\u001b[39m     \u001b[38;5;28mself\u001b[39m._check_indexing_error(key)\n",
      "\u001b[31mKeyError\u001b[39m: 'receipt_number_3_8'"
     ]
    }
   ],
   "source": [
    "data['receipt_number_3_8'].info()"
   ]
  },
  {
   "cell_type": "markdown",
   "id": "5cefd9a1",
   "metadata": {},
   "source": [
    "Impute data"
   ]
  },
  {
   "cell_type": "code",
   "execution_count": 29,
   "id": "9f54210f",
   "metadata": {},
   "outputs": [
    {
     "name": "stdout",
     "output_type": "stream",
     "text": [
      "Initial median:  140473.925\n",
      "\n",
      "Null into new dataframe:  0    0\n",
      "dtype: int64\n",
      "\n",
      "Median for new dataframe:  0    140473.925\n",
      "dtype: float64\n"
     ]
    }
   ],
   "source": [
    "\"\"\"\n",
    "This code block uses the SimpleImputer class from scikit-learn to\n",
    "replace null values in the 'amount_1_1' column of the data\n",
    "DataFrame with the median value of the column.\n",
    "\n",
    "First, it prints the initial median of the column. Then, it\n",
    "fits the imputer to the data and transforms it. The result is\n",
    "stored in a new DataFrame called 'output'.\n",
    "\n",
    "Finally, it prints the number of null values in the new\n",
    "DataFrame and the median of the new DataFrame.\n",
    "\"\"\"\n",
    "\n",
    "impute = SimpleImputer(strategy='median')\n",
    "\n",
    "print('Initial median: ', data['amount_1_1'].median())\n",
    "\n",
    "output = impute.fit_transform(data[['amount_1_1']])\n",
    "output = pd.DataFrame(output)\n",
    "\n",
    "print('\\nNull into new dataframe: ', output.isna().sum())\n",
    "print('\\nMedian for new dataframe: ', output.median())"
   ]
  },
  {
   "cell_type": "code",
   "execution_count": 31,
   "id": "55e332c1",
   "metadata": {},
   "outputs": [
    {
     "name": "stdout",
     "output_type": "stream",
     "text": [
      "Initial median:  state_1\n",
      "active       53\n",
      "expired      20\n",
      "cancelled     7\n",
      "Name: count, dtype: int64\n",
      "\n",
      "Null into new dataframe:  0    0\n",
      "dtype: int64\n",
      "\n",
      "Median for new dataframe:  0        \n",
      "active       38\n",
      "S            26\n",
      "expired      11\n",
      "cancelled     5\n",
      "Name: count, dtype: int64\n"
     ]
    }
   ],
   "source": [
    "\"\"\"\n",
    "This code uses the SimpleImputer from sklearn.impute to fill missing values in the 'state_1' column of the dataframe 'data' with the median value of the column.\n",
    "\"\"\"\n",
    "\n",
    "impute = SimpleImputer(strategy='constant', fill_value='S')\n",
    "\n",
    "print('Initial median: ', data['state_1'].value_counts())\n",
    "\n",
    "# fit and transform the data\n",
    "output = impute.fit_transform(data[['state_2']])\n",
    "output = pd.DataFrame(output)\n",
    "\n",
    "print('\\nNull into new dataframe: ', output.isna().sum())\n",
    "print('\\nMedian for new dataframe: ', output.value_counts())"
   ]
  }
 ],
 "metadata": {
  "kernelspec": {
   "display_name": "logistic_project_env",
   "language": "python",
   "name": "python3"
  },
  "language_info": {
   "codemirror_mode": {
    "name": "ipython",
    "version": 3
   },
   "file_extension": ".py",
   "mimetype": "text/x-python",
   "name": "python",
   "nbconvert_exporter": "python",
   "pygments_lexer": "ipython3",
   "version": "3.13.6"
  }
 },
 "nbformat": 4,
 "nbformat_minor": 5
}
